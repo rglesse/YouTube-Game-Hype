{
 "cells": [
  {
   "cell_type": "markdown",
   "metadata": {},
   "source": [
    "# Is the Hype Real?"
   ]
  },
  {
   "cell_type": "markdown",
   "metadata": {},
   "source": [
    "The objective of the following web scrapping project is to analyze and visualize the relationship between a game Youtube release trailer and its review score. We want to explore the possibility that either the number of views of the game's release trailer or the ratio of likes/dislikes has some predictive power over the final score the game will receive from the specialized media.\n",
    "\n",
    "Is the Hype Real seeks to explore the effects of Hype, simply defined as high expectations of a product. In this case, the product will be a game. The proxy for hype will be number of youtube views of the game release trailer, as well as like/dislike ratio of the video. We will assume that the Gamespot and Metacritic review scores are good proxies for fundamental quality of these games."
   ]
  },
  {
   "cell_type": "markdown",
   "metadata": {},
   "source": [
    "We start by importing all the libraries and extensions we are going to need in one cell"
   ]
  },
  {
   "cell_type": "code",
   "execution_count": 1,
   "metadata": {},
   "outputs": [],
   "source": [
    "from bs4 import BeautifulSoup\n",
    "import requests\n",
    "import seaborn as sns\n",
    "import pandas as pd\n",
    "import matplotlib.pyplot as plt\n",
    "%matplotlib inline\n",
    "\n",
    "import urllib.request\n",
    "import urllib.parse\n",
    "import re"
   ]
  },
  {
   "cell_type": "markdown",
   "metadata": {},
   "source": [
    "### Part 1 - Getting Youtube and GameSpot Data"
   ]
  },
  {
   "cell_type": "markdown",
   "metadata": {},
   "source": [
    "This part is divided in 5 key functions that can be rearranged in a class in the future. "
   ]
  },
  {
   "cell_type": "markdown",
   "metadata": {},
   "source": [
    "**1.** The first function takes as an input a game name in string format and through urllib it requests the first result showed on a Youtube search. The output is a string with the link to the video.\n",
    "\n",
    "*We add 'launch trailer' to every game inputed in order for the first result on youtube search to be more accurate."
   ]
  },
  {
   "cell_type": "code",
   "execution_count": 2,
   "metadata": {},
   "outputs": [],
   "source": [
    "def get_youtube_link(x):     #reference the code here\n",
    "    query_string = urllib.parse.urlencode({\"search_query\" : x + 'Launch Trailer'})\n",
    "    html_content = urllib.request.urlopen(\"http://www.youtube.com/results?\" + query_string)\n",
    "    search_results = re.findall(r'href=\\\"\\/watch\\?v=(.{11})', html_content.read().decode())\n",
    "    youtube_page = \"http://www.youtube.com/watch?v=\" + search_results[1]\n",
    "    return youtube_page"
   ]
  },
  {
   "cell_type": "markdown",
   "metadata": {},
   "source": [
    "**2.** The second function has the same input as the first one, but outputs the gamespot page for the game. TRABALHAR AQUI"
   ]
  },
  {
   "cell_type": "code",
   "execution_count": 3,
   "metadata": {},
   "outputs": [],
   "source": [
    "def gamespot_search_name(game_name):\n",
    "    return \"https://www.gamespot.com/\" + game_name.replace(\" \", \"-\").replace(\":\", \"\").replace(\"'\",\"\").casefold()"
   ]
  },
  {
   "cell_type": "markdown",
   "metadata": {},
   "source": [
    "**3.** This function is the first one to actually perform web scrapping. It has as its input the youtube url provided by the first function, and outputs the name of the video, views, date it was published on Youtube as well as the number of likes and dislikes."
   ]
  },
  {
   "cell_type": "code",
   "execution_count": 4,
   "metadata": {},
   "outputs": [],
   "source": [
    "def get_video_info(url):\n",
    "    # download HTML code\n",
    "    content = requests.get(url)\n",
    "    # create beautiful soup object to parse HTML\n",
    "    soup = BeautifulSoup(content.content, \"html.parser\")\n",
    "    # initialize the result\n",
    "    result = {}\n",
    "    result['video_title'] = soup.find(\"span\", attrs={\"class\": \"watch-title\"}).text.strip()\n",
    "    result['views'] = int(soup.find(\"div\", attrs={\"class\": \"watch-view-count\"}).text[:-6].replace(\",\", \"\"))\n",
    "    result['date_published_yt'] = soup.find(\"strong\", attrs={\"class\": \"watch-time-text\"}).text\n",
    "    result['likes'] = int(soup.find(\"button\", attrs={\"title\": \"I like this\"}).text.replace(\",\", \"\"))\n",
    "    result['dislikes'] = int(soup.find(\"button\", attrs={\"title\": \"I dislike this\"}).text.replace(\",\", \"\"))\n",
    " \n",
    "    return result"
   ]
  },
  {
   "cell_type": "markdown",
   "metadata": {},
   "source": [
    "**4.** Also a web scrapping function, has as an input the gamespot url provided by the function get_gamespot_link. Using Beautiful Soup, it finds and outputs the Gamespot and Metacritic review score for the game, as well as its release date."
   ]
  },
  {
   "cell_type": "code",
   "execution_count": 5,
   "metadata": {},
   "outputs": [],
   "source": [
    "def gamespot_stats(gamespot_link):\n",
    "\n",
    "    try:\n",
    "        #does the request and parses through the website\n",
    "        page = requests.get(gamespot_link)\n",
    "        soup = BeautifulSoup(page.text, 'html.parser')\n",
    "\n",
    "        gamespot_review = soup.find(\"div\", attrs= {\"gs-score__cell\"}).get_text()\n",
    "        metacritic_review = soup.find(\"dl\", attrs = {\"reviewObject__metacritic\"}).get_text()\n",
    "        metacritic_review = ''.join(x for x in metacritic_review if x.isdigit())\n",
    "\n",
    "        #get the developers,genre and publisher info\n",
    "        #if all_dev is 1 it will get all the developers,publishers and genres that the game belongs to.\n",
    "\n",
    "\n",
    "        date_of_release = \"\"\n",
    "        release_date = soup.find_all(\"ul\", attrs = {\"kubrick-info__releasedate\"})\n",
    "        release_date = str(release_date).replace(\"<span>\",\"\").replace(\"</span>\", \"\").split()\n",
    "        date_of_release = release_date[5]+ \" \" + release_date[6]+ \" \" + release_date[7]\n",
    "        date_of_release  \n",
    "\n",
    "\n",
    "        stats = {\"Gamespot Review Score\" : gamespot_review, \n",
    "             \"Metacritic Review Score\": metacritic_review,\n",
    "             \"Release Date\": date_of_release\n",
    "            }\n",
    "       \n",
    "    except:\n",
    "            stats = {\"Gamespot Review Score\" : \"\", \n",
    "                 \"Metacritic Review Score\": \"\",\n",
    "                 \"Release Date\": \"\"\n",
    "                }        \n",
    "\n",
    "    return stats\n"
   ]
  },
  {
   "cell_type": "markdown",
   "metadata": {},
   "source": [
    "**5.** The fifth and final function loops through all the functions above in order to build a panda.DataFrame as a result. The faster method found to do this was to setup the list of results for each individual function in order. Alternative methods would be to parse all the functions through each game, or call them all at once inside one another. This solutions, despite being elegant in its presentation, are flawed in the sense that they either take much more time or get eventually killed by the internet connection."
   ]
  },
  {
   "cell_type": "code",
   "execution_count": 69,
   "metadata": {},
   "outputs": [],
   "source": [
    "def construct_pandas(obj):\n",
    "    a= []\n",
    "    b = []\n",
    "    c = []\n",
    "    d = []\n",
    "    e = []\n",
    "\n",
    "    for x in obj:\n",
    "        \n",
    "        a.append(x)\n",
    "        b.append(gamespot_search_name(x))\n",
    "   \n",
    "    for x in b:\n",
    "        \n",
    "        c.append(gamespot_stats(x))\n",
    "    \n",
    "    for x in obj:\n",
    "        \n",
    "        d.append(get_youtube_link(x))\n",
    "    \n",
    "    for x in d:\n",
    "        \n",
    "        e.append(get_video_info(x))\n",
    "\n",
    "    df_1 = pd.DataFrame(a)\n",
    "    df_2 = pd.DataFrame(c)\n",
    "    df_3 = pd.DataFrame(e)\n",
    "    df_4 = df.join([df_1,df_2,df_3])\n",
    "    return df_4"
   ]
  },
  {
   "cell_type": "markdown",
   "metadata": {},
   "source": [
    "### Part 2 - Cleaning/Handling the Data"
   ]
  },
  {
   "cell_type": "markdown",
   "metadata": {},
   "source": [
    "Part 2 is where we get the data cleaned. We select the columns we want, as well as exclude games that haven't been reviewed from the sample."
   ]
  },
  {
   "cell_type": "markdown",
   "metadata": {},
   "source": [
    "**Inputting game list:** Here is where future work can be done, either automatically generating a much bigger list or inputting a personalized list. For the sake of testing the program, the list inputted consists of games released in 2017 for any console."
   ]
  },
  {
   "cell_type": "code",
   "execution_count": 70,
   "metadata": {},
   "outputs": [
    {
     "data": {
      "text/html": [
       "<div>\n",
       "<style scoped>\n",
       "    .dataframe tbody tr th:only-of-type {\n",
       "        vertical-align: middle;\n",
       "    }\n",
       "\n",
       "    .dataframe tbody tr th {\n",
       "        vertical-align: top;\n",
       "    }\n",
       "\n",
       "    .dataframe thead th {\n",
       "        text-align: right;\n",
       "    }\n",
       "</style>\n",
       "<table border=\"1\" class=\"dataframe\">\n",
       "  <thead>\n",
       "    <tr style=\"text-align: right;\">\n",
       "      <th></th>\n",
       "      <th>index</th>\n",
       "      <th>game_name</th>\n",
       "    </tr>\n",
       "  </thead>\n",
       "  <tbody>\n",
       "    <tr>\n",
       "      <th>0</th>\n",
       "      <td>8</td>\n",
       "      <td>Night in the Woods</td>\n",
       "    </tr>\n",
       "    <tr>\n",
       "      <th>1</th>\n",
       "      <td>19</td>\n",
       "      <td>Snake Pass</td>\n",
       "    </tr>\n",
       "    <tr>\n",
       "      <th>2</th>\n",
       "      <td>2</td>\n",
       "      <td>Resident Evil 7: Biohazard</td>\n",
       "    </tr>\n",
       "    <tr>\n",
       "      <th>3</th>\n",
       "      <td>45</td>\n",
       "      <td>Dirt 4</td>\n",
       "    </tr>\n",
       "    <tr>\n",
       "      <th>4</th>\n",
       "      <td>0</td>\n",
       "      <td>Danganronpa V3: Killing Harmony</td>\n",
       "    </tr>\n",
       "    <tr>\n",
       "      <th>5</th>\n",
       "      <td>13</td>\n",
       "      <td>Nier: Automata</td>\n",
       "    </tr>\n",
       "    <tr>\n",
       "      <th>6</th>\n",
       "      <td>31</td>\n",
       "      <td>Double Dragon 4</td>\n",
       "    </tr>\n",
       "    <tr>\n",
       "      <th>7</th>\n",
       "      <td>36</td>\n",
       "      <td>Syberia 3</td>\n",
       "    </tr>\n",
       "    <tr>\n",
       "      <th>8</th>\n",
       "      <td>24</td>\n",
       "      <td>Puyo Puyo Tetris</td>\n",
       "    </tr>\n",
       "    <tr>\n",
       "      <th>9</th>\n",
       "      <td>28</td>\n",
       "      <td>NBA Playgrounds</td>\n",
       "    </tr>\n",
       "    <tr>\n",
       "      <th>10</th>\n",
       "      <td>35</td>\n",
       "      <td>Flatout 4: Total Insanity</td>\n",
       "    </tr>\n",
       "    <tr>\n",
       "      <th>11</th>\n",
       "      <td>49</td>\n",
       "      <td>NHL 18</td>\n",
       "    </tr>\n",
       "    <tr>\n",
       "      <th>12</th>\n",
       "      <td>33</td>\n",
       "      <td>Diluvion</td>\n",
       "    </tr>\n",
       "    <tr>\n",
       "      <th>13</th>\n",
       "      <td>15</td>\n",
       "      <td>Styx: Shards of Darkness</td>\n",
       "    </tr>\n",
       "    <tr>\n",
       "      <th>14</th>\n",
       "      <td>22</td>\n",
       "      <td>The Sexy Brutale</td>\n",
       "    </tr>\n",
       "    <tr>\n",
       "      <th>15</th>\n",
       "      <td>46</td>\n",
       "      <td>Fable Fortune</td>\n",
       "    </tr>\n",
       "    <tr>\n",
       "      <th>16</th>\n",
       "      <td>34</td>\n",
       "      <td>Berserk And The Band Of The Hawk</td>\n",
       "    </tr>\n",
       "    <tr>\n",
       "      <th>17</th>\n",
       "      <td>27</td>\n",
       "      <td>Prey</td>\n",
       "    </tr>\n",
       "    <tr>\n",
       "      <th>18</th>\n",
       "      <td>10</td>\n",
       "      <td>The Legend of Zelda: Breath of the Wild</td>\n",
       "    </tr>\n",
       "    <tr>\n",
       "      <th>19</th>\n",
       "      <td>25</td>\n",
       "      <td>Outlast 2</td>\n",
       "    </tr>\n",
       "    <tr>\n",
       "      <th>20</th>\n",
       "      <td>12</td>\n",
       "      <td>Lego Worlds</td>\n",
       "    </tr>\n",
       "    <tr>\n",
       "      <th>21</th>\n",
       "      <td>26</td>\n",
       "      <td>Sniper: Ghost Warrior 3</td>\n",
       "    </tr>\n",
       "    <tr>\n",
       "      <th>22</th>\n",
       "      <td>21</td>\n",
       "      <td>PaRappa the Rapper</td>\n",
       "    </tr>\n",
       "    <tr>\n",
       "      <th>23</th>\n",
       "      <td>50</td>\n",
       "      <td>Echo</td>\n",
       "    </tr>\n",
       "    <tr>\n",
       "      <th>24</th>\n",
       "      <td>38</td>\n",
       "      <td>WWE 2K18</td>\n",
       "    </tr>\n",
       "    <tr>\n",
       "      <th>25</th>\n",
       "      <td>7</td>\n",
       "      <td>Halo Wars 2</td>\n",
       "    </tr>\n",
       "    <tr>\n",
       "      <th>26</th>\n",
       "      <td>1</td>\n",
       "      <td>Gravity Rush 2</td>\n",
       "    </tr>\n",
       "    <tr>\n",
       "      <th>27</th>\n",
       "      <td>44</td>\n",
       "      <td>What Remains of Edith Finch</td>\n",
       "    </tr>\n",
       "    <tr>\n",
       "      <th>28</th>\n",
       "      <td>29</td>\n",
       "      <td>Seasons After Fall</td>\n",
       "    </tr>\n",
       "    <tr>\n",
       "      <th>29</th>\n",
       "      <td>9</td>\n",
       "      <td>Hollow Knight</td>\n",
       "    </tr>\n",
       "  </tbody>\n",
       "</table>\n",
       "</div>"
      ],
      "text/plain": [
       "    index                                game_name\n",
       "0       8                       Night in the Woods\n",
       "1      19                               Snake Pass\n",
       "2       2               Resident Evil 7: Biohazard\n",
       "3      45                                   Dirt 4\n",
       "4       0          Danganronpa V3: Killing Harmony\n",
       "5      13                           Nier: Automata\n",
       "6      31                          Double Dragon 4\n",
       "7      36                                Syberia 3\n",
       "8      24                         Puyo Puyo Tetris\n",
       "9      28                          NBA Playgrounds\n",
       "10     35                Flatout 4: Total Insanity\n",
       "11     49                                   NHL 18\n",
       "12     33                                 Diluvion\n",
       "13     15                 Styx: Shards of Darkness\n",
       "14     22                         The Sexy Brutale\n",
       "15     46                            Fable Fortune\n",
       "16     34         Berserk And The Band Of The Hawk\n",
       "17     27                                     Prey\n",
       "18     10  The Legend of Zelda: Breath of the Wild\n",
       "19     25                                Outlast 2\n",
       "20     12                              Lego Worlds\n",
       "21     26                  Sniper: Ghost Warrior 3\n",
       "22     21                       PaRappa the Rapper\n",
       "23     50                                     Echo\n",
       "24     38                                 WWE 2K18\n",
       "25      7                              Halo Wars 2\n",
       "26      1                           Gravity Rush 2\n",
       "27     44              What Remains of Edith Finch\n",
       "28     29                       Seasons After Fall\n",
       "29      9                            Hollow Knight"
      ]
     },
     "execution_count": 70,
     "metadata": {},
     "output_type": "execute_result"
    }
   ],
   "source": [
    "df = pd.read_excel('2018_game_list.xlsx')\n",
    "df = df.sample(n=30) #gets a sample of size n from the overall df\n",
    "df = df.reset_index()\n",
    "df"
   ]
  },
  {
   "cell_type": "markdown",
   "metadata": {},
   "source": [
    "**Calling the main function** = Construct the dataframe with all the info we need. Might take several minutes depending on internet (and VPN) connection."
   ]
  },
  {
   "cell_type": "code",
   "execution_count": 71,
   "metadata": {},
   "outputs": [],
   "source": [
    "data = construct_pandas(df['game_name'])"
   ]
  },
  {
   "cell_type": "code",
   "execution_count": 72,
   "metadata": {},
   "outputs": [
    {
     "data": {
      "text/html": [
       "<div>\n",
       "<style scoped>\n",
       "    .dataframe tbody tr th:only-of-type {\n",
       "        vertical-align: middle;\n",
       "    }\n",
       "\n",
       "    .dataframe tbody tr th {\n",
       "        vertical-align: top;\n",
       "    }\n",
       "\n",
       "    .dataframe thead th {\n",
       "        text-align: right;\n",
       "    }\n",
       "</style>\n",
       "<table border=\"1\" class=\"dataframe\">\n",
       "  <thead>\n",
       "    <tr style=\"text-align: right;\">\n",
       "      <th></th>\n",
       "      <th>index</th>\n",
       "      <th>game_name</th>\n",
       "      <th>0</th>\n",
       "      <th>Gamespot Review Score</th>\n",
       "      <th>Metacritic Review Score</th>\n",
       "      <th>Release Date</th>\n",
       "      <th>date_published_yt</th>\n",
       "      <th>dislikes</th>\n",
       "      <th>likes</th>\n",
       "      <th>video_title</th>\n",
       "      <th>views</th>\n",
       "    </tr>\n",
       "  </thead>\n",
       "  <tbody>\n",
       "    <tr>\n",
       "      <th>0</th>\n",
       "      <td>8</td>\n",
       "      <td>Night in the Woods</td>\n",
       "      <td>Night in the Woods</td>\n",
       "      <td>9</td>\n",
       "      <td>88</td>\n",
       "      <td>Feb 21, 2017</td>\n",
       "      <td>Published on Dec 13, 2017</td>\n",
       "      <td>13</td>\n",
       "      <td>595</td>\n",
       "      <td>Night in the Woods Launch Trailer</td>\n",
       "      <td>37826</td>\n",
       "    </tr>\n",
       "    <tr>\n",
       "      <th>1</th>\n",
       "      <td>19</td>\n",
       "      <td>Snake Pass</td>\n",
       "      <td>Snake Pass</td>\n",
       "      <td>7</td>\n",
       "      <td>71</td>\n",
       "      <td>Mar 28, 2017</td>\n",
       "      <td>Published on Mar 29, 2017</td>\n",
       "      <td>97</td>\n",
       "      <td>1214</td>\n",
       "      <td>Snake Pass - Launch Trailer | PS4</td>\n",
       "      <td>29838</td>\n",
       "    </tr>\n",
       "    <tr>\n",
       "      <th>2</th>\n",
       "      <td>2</td>\n",
       "      <td>Resident Evil 7: Biohazard</td>\n",
       "      <td>Resident Evil 7: Biohazard</td>\n",
       "      <td>8</td>\n",
       "      <td>83</td>\n",
       "      <td>Jan 23, 2017</td>\n",
       "      <td>Published on Jan 24, 2017</td>\n",
       "      <td>932</td>\n",
       "      <td>25060</td>\n",
       "      <td>Resident Evil 7 Biohazard Official Launch Trailer</td>\n",
       "      <td>3861864</td>\n",
       "    </tr>\n",
       "    <tr>\n",
       "      <th>3</th>\n",
       "      <td>45</td>\n",
       "      <td>Dirt 4</td>\n",
       "      <td>Dirt 4</td>\n",
       "      <td>9</td>\n",
       "      <td></td>\n",
       "      <td>Jun 6, 2017</td>\n",
       "      <td>Published on Jun 7, 2017</td>\n",
       "      <td>19</td>\n",
       "      <td>533</td>\n",
       "      <td>DiRT 4 - Launch Trailer</td>\n",
       "      <td>44989</td>\n",
       "    </tr>\n",
       "    <tr>\n",
       "      <th>4</th>\n",
       "      <td>0</td>\n",
       "      <td>Danganronpa V3: Killing Harmony</td>\n",
       "      <td>Danganronpa V3: Killing Harmony</td>\n",
       "      <td>7</td>\n",
       "      <td>80</td>\n",
       "      <td>Sep 25, 2017</td>\n",
       "      <td>Published on Sep 26, 2017</td>\n",
       "      <td>80</td>\n",
       "      <td>2273</td>\n",
       "      <td>Danganronpa V3: Killing Harmony – Launch Trail...</td>\n",
       "      <td>101331</td>\n",
       "    </tr>\n",
       "  </tbody>\n",
       "</table>\n",
       "</div>"
      ],
      "text/plain": [
       "   index                        game_name                                0  \\\n",
       "0      8               Night in the Woods               Night in the Woods   \n",
       "1     19                       Snake Pass                       Snake Pass   \n",
       "2      2       Resident Evil 7: Biohazard       Resident Evil 7: Biohazard   \n",
       "3     45                           Dirt 4                           Dirt 4   \n",
       "4      0  Danganronpa V3: Killing Harmony  Danganronpa V3: Killing Harmony   \n",
       "\n",
       "  Gamespot Review Score Metacritic Review Score  Release Date  \\\n",
       "0                     9                      88  Feb 21, 2017   \n",
       "1                     7                      71  Mar 28, 2017   \n",
       "2                     8                      83  Jan 23, 2017   \n",
       "3                     9                           Jun 6, 2017   \n",
       "4                     7                      80  Sep 25, 2017   \n",
       "\n",
       "           date_published_yt  dislikes  likes  \\\n",
       "0  Published on Dec 13, 2017        13    595   \n",
       "1  Published on Mar 29, 2017        97   1214   \n",
       "2  Published on Jan 24, 2017       932  25060   \n",
       "3   Published on Jun 7, 2017        19    533   \n",
       "4  Published on Sep 26, 2017        80   2273   \n",
       "\n",
       "                                         video_title    views  \n",
       "0                  Night in the Woods Launch Trailer    37826  \n",
       "1                  Snake Pass - Launch Trailer | PS4    29838  \n",
       "2  Resident Evil 7 Biohazard Official Launch Trailer  3861864  \n",
       "3                            DiRT 4 - Launch Trailer    44989  \n",
       "4  Danganronpa V3: Killing Harmony – Launch Trail...   101331  "
      ]
     },
     "execution_count": 72,
     "metadata": {},
     "output_type": "execute_result"
    }
   ],
   "source": [
    "data.head(5)"
   ]
  },
  {
   "cell_type": "markdown",
   "metadata": {},
   "source": [
    "Convert the reviews scores to floats, the release date to datetime and creates the variable dislike ratio."
   ]
  },
  {
   "cell_type": "code",
   "execution_count": 73,
   "metadata": {},
   "outputs": [
    {
     "name": "stderr",
     "output_type": "stream",
     "text": [
      "D:\\Anaconda\\lib\\site-packages\\ipykernel_launcher.py:1: FutureWarning: convert_objects is deprecated.  To re-infer data dtypes for object columns, use Series.infer_objects()\n",
      "For all other conversions use the data-type specific converters pd.to_datetime, pd.to_timedelta and pd.to_numeric.\n",
      "  \"\"\"Entry point for launching an IPython kernel.\n",
      "D:\\Anaconda\\lib\\site-packages\\ipykernel_launcher.py:2: FutureWarning: convert_objects is deprecated.  To re-infer data dtypes for object columns, use Series.infer_objects()\n",
      "For all other conversions use the data-type specific converters pd.to_datetime, pd.to_timedelta and pd.to_numeric.\n",
      "  \n"
     ]
    }
   ],
   "source": [
    "data['Gamespot Review Score'] = data['Gamespot Review Score'].convert_objects(convert_numeric = True)\n",
    "data['Metacritic Review Score']= data['Metacritic Review Score'].convert_objects(convert_numeric=True)\n",
    "data['Release Date'] = pd.to_datetime(data['Release Date'], errors = 'coerce')\n",
    "data['dislike ratio'] = data['dislikes']/data['likes']"
   ]
  },
  {
   "cell_type": "code",
   "execution_count": 74,
   "metadata": {},
   "outputs": [
    {
     "data": {
      "text/plain": [
       "0    Published on Dec 13, 2017\n",
       "1    Published on Mar 29, 2017\n",
       "2    Published on Jan 24, 2017\n",
       "3     Published on Jun 7, 2017\n",
       "4    Published on Sep 26, 2017\n",
       "Name: date_published_yt, dtype: object"
      ]
     },
     "execution_count": 74,
     "metadata": {},
     "output_type": "execute_result"
    }
   ],
   "source": [
    "data['date_published_yt'].head(5)"
   ]
  },
  {
   "cell_type": "code",
   "execution_count": 75,
   "metadata": {},
   "outputs": [],
   "source": [
    "data['date_published_yt'] = data['date_published_yt'].map(lambda x: x.lstrip('Published on'))\n"
   ]
  },
  {
   "cell_type": "code",
   "execution_count": 76,
   "metadata": {},
   "outputs": [],
   "source": [
    "data['date_published_yt'] = pd.to_datetime(data['date_published_yt'], errors = 'coerce')"
   ]
  },
  {
   "cell_type": "code",
   "execution_count": 77,
   "metadata": {},
   "outputs": [
    {
     "data": {
      "text/plain": [
       "0   2017-12-13\n",
       "1   2017-03-29\n",
       "2   2017-01-24\n",
       "3   2017-06-07\n",
       "4   2017-09-26\n",
       "Name: date_published_yt, dtype: datetime64[ns]"
      ]
     },
     "execution_count": 77,
     "metadata": {},
     "output_type": "execute_result"
    }
   ],
   "source": [
    "data['date_published_yt'].head(5)"
   ]
  },
  {
   "cell_type": "markdown",
   "metadata": {},
   "source": [
    "Finally, remove all the non existent values from the sample."
   ]
  },
  {
   "cell_type": "code",
   "execution_count": 78,
   "metadata": {},
   "outputs": [],
   "source": [
    "clean_data = data[['game_name','views', 'Metacritic Review Score','Gamespot Review Score', 'dislike ratio',\n",
    "                   'Release Date', 'date_published_yt']]\n",
    "clean_data = clean_data.dropna()"
   ]
  },
  {
   "cell_type": "code",
   "execution_count": 79,
   "metadata": {},
   "outputs": [],
   "source": [
    "clean_data = clean_data.sort_values(by = 'Metacritic Review Score', ascending = False)"
   ]
  },
  {
   "cell_type": "code",
   "execution_count": 80,
   "metadata": {},
   "outputs": [
    {
     "data": {
      "text/html": [
       "<div>\n",
       "<style scoped>\n",
       "    .dataframe tbody tr th:only-of-type {\n",
       "        vertical-align: middle;\n",
       "    }\n",
       "\n",
       "    .dataframe tbody tr th {\n",
       "        vertical-align: top;\n",
       "    }\n",
       "\n",
       "    .dataframe thead th {\n",
       "        text-align: right;\n",
       "    }\n",
       "</style>\n",
       "<table border=\"1\" class=\"dataframe\">\n",
       "  <thead>\n",
       "    <tr style=\"text-align: right;\">\n",
       "      <th></th>\n",
       "      <th>game_name</th>\n",
       "      <th>views</th>\n",
       "      <th>Metacritic Review Score</th>\n",
       "      <th>Gamespot Review Score</th>\n",
       "      <th>dislike ratio</th>\n",
       "      <th>Release Date</th>\n",
       "      <th>date_published_yt</th>\n",
       "    </tr>\n",
       "  </thead>\n",
       "  <tbody>\n",
       "    <tr>\n",
       "      <th>18</th>\n",
       "      <td>The Legend of Zelda: Breath of the Wild</td>\n",
       "      <td>18414127</td>\n",
       "      <td>96.0</td>\n",
       "      <td>10.0</td>\n",
       "      <td>0.017575</td>\n",
       "      <td>2017-03-03</td>\n",
       "      <td>2017-01-12</td>\n",
       "    </tr>\n",
       "    <tr>\n",
       "      <th>22</th>\n",
       "      <td>PaRappa the Rapper</td>\n",
       "      <td>352</td>\n",
       "      <td>92.0</td>\n",
       "      <td>8.5</td>\n",
       "      <td>0.000000</td>\n",
       "      <td>1997-10-31</td>\n",
       "      <td>2017-04-04</td>\n",
       "    </tr>\n",
       "    <tr>\n",
       "      <th>27</th>\n",
       "      <td>What Remains of Edith Finch</td>\n",
       "      <td>253491</td>\n",
       "      <td>89.0</td>\n",
       "      <td>9.0</td>\n",
       "      <td>0.022959</td>\n",
       "      <td>2017-04-24</td>\n",
       "      <td>2017-04-25</td>\n",
       "    </tr>\n",
       "    <tr>\n",
       "      <th>0</th>\n",
       "      <td>Night in the Woods</td>\n",
       "      <td>37826</td>\n",
       "      <td>88.0</td>\n",
       "      <td>9.0</td>\n",
       "      <td>0.021849</td>\n",
       "      <td>2017-02-21</td>\n",
       "      <td>2017-12-13</td>\n",
       "    </tr>\n",
       "    <tr>\n",
       "      <th>29</th>\n",
       "      <td>Hollow Knight</td>\n",
       "      <td>1920582</td>\n",
       "      <td>87.0</td>\n",
       "      <td>9.0</td>\n",
       "      <td>0.011515</td>\n",
       "      <td>2017-02-24</td>\n",
       "      <td>2017-02-10</td>\n",
       "    </tr>\n",
       "    <tr>\n",
       "      <th>5</th>\n",
       "      <td>Nier: Automata</td>\n",
       "      <td>901968</td>\n",
       "      <td>84.0</td>\n",
       "      <td>9.0</td>\n",
       "      <td>0.022767</td>\n",
       "      <td>2017-03-07</td>\n",
       "      <td>2017-03-07</td>\n",
       "    </tr>\n",
       "    <tr>\n",
       "      <th>2</th>\n",
       "      <td>Resident Evil 7: Biohazard</td>\n",
       "      <td>3861864</td>\n",
       "      <td>83.0</td>\n",
       "      <td>8.0</td>\n",
       "      <td>0.037191</td>\n",
       "      <td>2017-01-23</td>\n",
       "      <td>2017-01-24</td>\n",
       "    </tr>\n",
       "    <tr>\n",
       "      <th>14</th>\n",
       "      <td>The Sexy Brutale</td>\n",
       "      <td>6665</td>\n",
       "      <td>83.0</td>\n",
       "      <td>8.0</td>\n",
       "      <td>0.076087</td>\n",
       "      <td>2017-04-11</td>\n",
       "      <td>2017-04-11</td>\n",
       "    </tr>\n",
       "    <tr>\n",
       "      <th>17</th>\n",
       "      <td>Prey</td>\n",
       "      <td>2761909</td>\n",
       "      <td>82.0</td>\n",
       "      <td>6.0</td>\n",
       "      <td>0.049743</td>\n",
       "      <td>2017-05-04</td>\n",
       "      <td>2016-06-12</td>\n",
       "    </tr>\n",
       "    <tr>\n",
       "      <th>26</th>\n",
       "      <td>Gravity Rush 2</td>\n",
       "      <td>85748</td>\n",
       "      <td>80.0</td>\n",
       "      <td>9.0</td>\n",
       "      <td>0.014567</td>\n",
       "      <td>2017-01-20</td>\n",
       "      <td>2016-09-15</td>\n",
       "    </tr>\n",
       "    <tr>\n",
       "      <th>4</th>\n",
       "      <td>Danganronpa V3: Killing Harmony</td>\n",
       "      <td>101331</td>\n",
       "      <td>80.0</td>\n",
       "      <td>7.0</td>\n",
       "      <td>0.035196</td>\n",
       "      <td>2017-09-25</td>\n",
       "      <td>2017-09-26</td>\n",
       "    </tr>\n",
       "    <tr>\n",
       "      <th>11</th>\n",
       "      <td>NHL 18</td>\n",
       "      <td>850300</td>\n",
       "      <td>77.0</td>\n",
       "      <td>7.0</td>\n",
       "      <td>0.082540</td>\n",
       "      <td>2017-09-12</td>\n",
       "      <td>2017-06-21</td>\n",
       "    </tr>\n",
       "    <tr>\n",
       "      <th>19</th>\n",
       "      <td>Outlast 2</td>\n",
       "      <td>231708</td>\n",
       "      <td>75.0</td>\n",
       "      <td>7.0</td>\n",
       "      <td>0.019812</td>\n",
       "      <td>2017-04-24</td>\n",
       "      <td>2017-04-21</td>\n",
       "    </tr>\n",
       "    <tr>\n",
       "      <th>13</th>\n",
       "      <td>Styx: Shards of Darkness</td>\n",
       "      <td>106192</td>\n",
       "      <td>72.0</td>\n",
       "      <td>6.0</td>\n",
       "      <td>0.038652</td>\n",
       "      <td>2017-03-14</td>\n",
       "      <td>2017-03-10</td>\n",
       "    </tr>\n",
       "    <tr>\n",
       "      <th>1</th>\n",
       "      <td>Snake Pass</td>\n",
       "      <td>29838</td>\n",
       "      <td>71.0</td>\n",
       "      <td>7.0</td>\n",
       "      <td>0.079901</td>\n",
       "      <td>2017-03-28</td>\n",
       "      <td>2017-03-29</td>\n",
       "    </tr>\n",
       "    <tr>\n",
       "      <th>25</th>\n",
       "      <td>Halo Wars 2</td>\n",
       "      <td>1279153</td>\n",
       "      <td>70.0</td>\n",
       "      <td>6.0</td>\n",
       "      <td>0.029640</td>\n",
       "      <td>2017-02-17</td>\n",
       "      <td>2017-02-06</td>\n",
       "    </tr>\n",
       "    <tr>\n",
       "      <th>24</th>\n",
       "      <td>WWE 2K18</td>\n",
       "      <td>3283327</td>\n",
       "      <td>64.0</td>\n",
       "      <td>5.0</td>\n",
       "      <td>0.045455</td>\n",
       "      <td>2017-10-13</td>\n",
       "      <td>2017-10-13</td>\n",
       "    </tr>\n",
       "    <tr>\n",
       "      <th>9</th>\n",
       "      <td>NBA Playgrounds</td>\n",
       "      <td>320768</td>\n",
       "      <td>63.0</td>\n",
       "      <td>6.0</td>\n",
       "      <td>0.065044</td>\n",
       "      <td>2017-05-09</td>\n",
       "      <td>2017-05-09</td>\n",
       "    </tr>\n",
       "    <tr>\n",
       "      <th>21</th>\n",
       "      <td>Sniper: Ghost Warrior 3</td>\n",
       "      <td>286126</td>\n",
       "      <td>59.0</td>\n",
       "      <td>5.0</td>\n",
       "      <td>0.081967</td>\n",
       "      <td>2017-04-25</td>\n",
       "      <td>2017-04-25</td>\n",
       "    </tr>\n",
       "    <tr>\n",
       "      <th>16</th>\n",
       "      <td>Berserk And The Band Of The Hawk</td>\n",
       "      <td>116164</td>\n",
       "      <td>54.0</td>\n",
       "      <td>5.0</td>\n",
       "      <td>0.039726</td>\n",
       "      <td>2017-02-21</td>\n",
       "      <td>2017-02-21</td>\n",
       "    </tr>\n",
       "    <tr>\n",
       "      <th>10</th>\n",
       "      <td>Flatout 4: Total Insanity</td>\n",
       "      <td>92314</td>\n",
       "      <td>52.0</td>\n",
       "      <td>5.0</td>\n",
       "      <td>0.111111</td>\n",
       "      <td>2017-04-04</td>\n",
       "      <td>2017-03-17</td>\n",
       "    </tr>\n",
       "    <tr>\n",
       "      <th>7</th>\n",
       "      <td>Syberia 3</td>\n",
       "      <td>125831</td>\n",
       "      <td>51.0</td>\n",
       "      <td>4.0</td>\n",
       "      <td>0.348361</td>\n",
       "      <td>2012-09-05</td>\n",
       "      <td>2017-04-19</td>\n",
       "    </tr>\n",
       "  </tbody>\n",
       "</table>\n",
       "</div>"
      ],
      "text/plain": [
       "                                  game_name     views  \\\n",
       "18  The Legend of Zelda: Breath of the Wild  18414127   \n",
       "22                       PaRappa the Rapper       352   \n",
       "27              What Remains of Edith Finch    253491   \n",
       "0                        Night in the Woods     37826   \n",
       "29                            Hollow Knight   1920582   \n",
       "5                            Nier: Automata    901968   \n",
       "2                Resident Evil 7: Biohazard   3861864   \n",
       "14                         The Sexy Brutale      6665   \n",
       "17                                     Prey   2761909   \n",
       "26                           Gravity Rush 2     85748   \n",
       "4           Danganronpa V3: Killing Harmony    101331   \n",
       "11                                   NHL 18    850300   \n",
       "19                                Outlast 2    231708   \n",
       "13                 Styx: Shards of Darkness    106192   \n",
       "1                                Snake Pass     29838   \n",
       "25                              Halo Wars 2   1279153   \n",
       "24                                 WWE 2K18   3283327   \n",
       "9                           NBA Playgrounds    320768   \n",
       "21                  Sniper: Ghost Warrior 3    286126   \n",
       "16         Berserk And The Band Of The Hawk    116164   \n",
       "10                Flatout 4: Total Insanity     92314   \n",
       "7                                 Syberia 3    125831   \n",
       "\n",
       "    Metacritic Review Score  Gamespot Review Score  dislike ratio  \\\n",
       "18                     96.0                   10.0       0.017575   \n",
       "22                     92.0                    8.5       0.000000   \n",
       "27                     89.0                    9.0       0.022959   \n",
       "0                      88.0                    9.0       0.021849   \n",
       "29                     87.0                    9.0       0.011515   \n",
       "5                      84.0                    9.0       0.022767   \n",
       "2                      83.0                    8.0       0.037191   \n",
       "14                     83.0                    8.0       0.076087   \n",
       "17                     82.0                    6.0       0.049743   \n",
       "26                     80.0                    9.0       0.014567   \n",
       "4                      80.0                    7.0       0.035196   \n",
       "11                     77.0                    7.0       0.082540   \n",
       "19                     75.0                    7.0       0.019812   \n",
       "13                     72.0                    6.0       0.038652   \n",
       "1                      71.0                    7.0       0.079901   \n",
       "25                     70.0                    6.0       0.029640   \n",
       "24                     64.0                    5.0       0.045455   \n",
       "9                      63.0                    6.0       0.065044   \n",
       "21                     59.0                    5.0       0.081967   \n",
       "16                     54.0                    5.0       0.039726   \n",
       "10                     52.0                    5.0       0.111111   \n",
       "7                      51.0                    4.0       0.348361   \n",
       "\n",
       "   Release Date date_published_yt  \n",
       "18   2017-03-03        2017-01-12  \n",
       "22   1997-10-31        2017-04-04  \n",
       "27   2017-04-24        2017-04-25  \n",
       "0    2017-02-21        2017-12-13  \n",
       "29   2017-02-24        2017-02-10  \n",
       "5    2017-03-07        2017-03-07  \n",
       "2    2017-01-23        2017-01-24  \n",
       "14   2017-04-11        2017-04-11  \n",
       "17   2017-05-04        2016-06-12  \n",
       "26   2017-01-20        2016-09-15  \n",
       "4    2017-09-25        2017-09-26  \n",
       "11   2017-09-12        2017-06-21  \n",
       "19   2017-04-24        2017-04-21  \n",
       "13   2017-03-14        2017-03-10  \n",
       "1    2017-03-28        2017-03-29  \n",
       "25   2017-02-17        2017-02-06  \n",
       "24   2017-10-13        2017-10-13  \n",
       "9    2017-05-09        2017-05-09  \n",
       "21   2017-04-25        2017-04-25  \n",
       "16   2017-02-21        2017-02-21  \n",
       "10   2017-04-04        2017-03-17  \n",
       "7    2012-09-05        2017-04-19  "
      ]
     },
     "execution_count": 80,
     "metadata": {},
     "output_type": "execute_result"
    }
   ],
   "source": [
    "clean_data"
   ]
  },
  {
   "cell_type": "markdown",
   "metadata": {},
   "source": [
    "### Part 3 - Analysis"
   ]
  },
  {
   "cell_type": "markdown",
   "metadata": {},
   "source": [
    "First, let's do some exploratory analysis, trying to understand the distribution of each variable."
   ]
  },
  {
   "cell_type": "code",
   "execution_count": 81,
   "metadata": {},
   "outputs": [],
   "source": [
    "clean_data['Gamespot Review Score'] = clean_data['Gamespot Review Score']*10"
   ]
  },
  {
   "cell_type": "code",
   "execution_count": 82,
   "metadata": {},
   "outputs": [
    {
     "data": {
      "text/plain": [
       "count     22.000000\n",
       "mean      70.681818\n",
       "std       17.202952\n",
       "min       40.000000\n",
       "25%       60.000000\n",
       "50%       70.000000\n",
       "75%       88.750000\n",
       "max      100.000000\n",
       "Name: Gamespot Review Score, dtype: float64"
      ]
     },
     "execution_count": 82,
     "metadata": {},
     "output_type": "execute_result"
    }
   ],
   "source": [
    "clean_data['Gamespot Review Score'].describe()"
   ]
  },
  {
   "cell_type": "code",
   "execution_count": 83,
   "metadata": {},
   "outputs": [
    {
     "data": {
      "text/plain": [
       "<matplotlib.axes._subplots.AxesSubplot at 0x19a1668b080>"
      ]
     },
     "execution_count": 83,
     "metadata": {},
     "output_type": "execute_result"
    },
    {
     "data": {
      "image/png": "[encoded data removed]",
      "text/plain": [
       "<Figure size 432x288 with 1 Axes>"
      ]
     },
     "metadata": {
      "needs_background": "light"
     },
     "output_type": "display_data"
    }
   ],
   "source": [
    "sns.distplot(clean_data['Gamespot Review Score'])"
   ]
  },
  {
   "cell_type": "code",
   "execution_count": 84,
   "metadata": {},
   "outputs": [
    {
     "data": {
      "text/plain": [
       "count    22.000000\n",
       "mean     75.090909\n",
       "std      13.215824\n",
       "min      51.000000\n",
       "25%      65.500000\n",
       "50%      78.500000\n",
       "75%      83.750000\n",
       "max      96.000000\n",
       "Name: Metacritic Review Score, dtype: float64"
      ]
     },
     "execution_count": 84,
     "metadata": {},
     "output_type": "execute_result"
    }
   ],
   "source": [
    "clean_data['Metacritic Review Score'].describe()"
   ]
  },
  {
   "cell_type": "code",
   "execution_count": 85,
   "metadata": {},
   "outputs": [
    {
     "data": {
      "text/plain": [
       "<matplotlib.axes._subplots.AxesSubplot at 0x19a19c1b160>"
      ]
     },
     "execution_count": 85,
     "metadata": {},
     "output_type": "execute_result"
    },
    {
     "data": {
      "image/png": "[encoded data removed]",
      "text/plain": [
       "<Figure size 432x288 with 1 Axes>"
      ]
     },
     "metadata": {
      "needs_background": "light"
     },
     "output_type": "display_data"
    }
   ],
   "source": [
    "sns.distplot(clean_data['Metacritic Review Score'])"
   ]
  },
  {
   "cell_type": "code",
   "execution_count": 86,
   "metadata": {},
   "outputs": [
    {
     "data": {
      "text/plain": [
       "<matplotlib.axes._subplots.AxesSubplot at 0x19a198d5518>"
      ]
     },
     "execution_count": 86,
     "metadata": {},
     "output_type": "execute_result"
    },
    {
     "data": {
      "image/png": "[encoded data removed]",
      "text/plain": [
       "<Figure size 432x288 with 1 Axes>"
      ]
     },
     "metadata": {
      "needs_background": "light"
     },
     "output_type": "display_data"
    }
   ],
   "source": [
    "sns.distplot(clean_data['dislike ratio'])"
   ]
  },
  {
   "cell_type": "code",
   "execution_count": 87,
   "metadata": {},
   "outputs": [
    {
     "data": {
      "text/plain": [
       "<matplotlib.axes._subplots.AxesSubplot at 0x19a19925518>"
      ]
     },
     "execution_count": 87,
     "metadata": {},
     "output_type": "execute_result"
    },
    {
     "data": {
      "image/png": "[encoded data removed]",
      "text/plain": [
       "<Figure size 432x288 with 1 Axes>"
      ]
     },
     "metadata": {
      "needs_background": "light"
     },
     "output_type": "display_data"
    }
   ],
   "source": [
    "sns.distplot(clean_data['views'])"
   ]
  },
  {
   "cell_type": "markdown",
   "metadata": {},
   "source": [
    "**What was the game with the best score according to Gamespot? And Metacritic?**"
   ]
  },
  {
   "cell_type": "code",
   "execution_count": 88,
   "metadata": {},
   "outputs": [
    {
     "data": {
      "text/plain": [
       "game_name                  The Legend of Zelda: Breath of the Wild\n",
       "views                                                     18414127\n",
       "Metacritic Review Score                                         96\n",
       "Gamespot Review Score                                          100\n",
       "dislike ratio                                             0.017575\n",
       "Release Date                                   2017-03-03 00:00:00\n",
       "date_published_yt                              2017-01-12 00:00:00\n",
       "Name: 18, dtype: object"
      ]
     },
     "execution_count": 88,
     "metadata": {},
     "output_type": "execute_result"
    }
   ],
   "source": [
    "clean_data.loc[clean_data['Gamespot Review Score'].idxmax()]"
   ]
  },
  {
   "cell_type": "code",
   "execution_count": 89,
   "metadata": {},
   "outputs": [
    {
     "data": {
      "text/plain": [
       "game_name                  The Legend of Zelda: Breath of the Wild\n",
       "views                                                     18414127\n",
       "Metacritic Review Score                                         96\n",
       "Gamespot Review Score                                          100\n",
       "dislike ratio                                             0.017575\n",
       "Release Date                                   2017-03-03 00:00:00\n",
       "date_published_yt                              2017-01-12 00:00:00\n",
       "Name: 18, dtype: object"
      ]
     },
     "execution_count": 89,
     "metadata": {},
     "output_type": "execute_result"
    }
   ],
   "source": [
    "clean_data.loc[clean_data['Metacritic Review Score'].idxmax()]"
   ]
  },
  {
   "cell_type": "markdown",
   "metadata": {},
   "source": [
    "**What was the game with the worst score according to Gamespot? And Metacritic?**"
   ]
  },
  {
   "cell_type": "code",
   "execution_count": 90,
   "metadata": {},
   "outputs": [
    {
     "data": {
      "text/plain": [
       "game_name                            Syberia 3\n",
       "views                                   125831\n",
       "Metacritic Review Score                     51\n",
       "Gamespot Review Score                       40\n",
       "dislike ratio                         0.348361\n",
       "Release Date               2012-09-05 00:00:00\n",
       "date_published_yt          2017-04-19 00:00:00\n",
       "Name: 7, dtype: object"
      ]
     },
     "execution_count": 90,
     "metadata": {},
     "output_type": "execute_result"
    }
   ],
   "source": [
    "clean_data.loc[clean_data['Gamespot Review Score'].idxmin()]"
   ]
  },
  {
   "cell_type": "code",
   "execution_count": 91,
   "metadata": {},
   "outputs": [
    {
     "data": {
      "text/plain": [
       "game_name                            Syberia 3\n",
       "views                                   125831\n",
       "Metacritic Review Score                     51\n",
       "Gamespot Review Score                       40\n",
       "dislike ratio                         0.348361\n",
       "Release Date               2012-09-05 00:00:00\n",
       "date_published_yt          2017-04-19 00:00:00\n",
       "Name: 7, dtype: object"
      ]
     },
     "execution_count": 91,
     "metadata": {},
     "output_type": "execute_result"
    }
   ],
   "source": [
    "clean_data.loc[clean_data['Metacritic Review Score'].idxmin()]"
   ]
  },
  {
   "cell_type": "code",
   "execution_count": 92,
   "metadata": {},
   "outputs": [
    {
     "data": {
      "text/plain": [
       "<matplotlib.collections.PathCollection at 0x19a191546d8>"
      ]
     },
     "execution_count": 92,
     "metadata": {},
     "output_type": "execute_result"
    },
    {
     "data": {
      "image/png": "[encoded data removed]",
      "text/plain": [
       "<Figure size 720x720 with 1 Axes>"
      ]
     },
     "metadata": {
      "needs_background": "light"
     },
     "output_type": "display_data"
    }
   ],
   "source": [
    "plt.figure(figsize=(10,10))\n",
    "plt.scatter(x=clean_data['views'], y=clean_data['game_name'])"
   ]
  },
  {
   "cell_type": "code",
   "execution_count": 93,
   "metadata": {},
   "outputs": [
    {
     "data": {
      "text/plain": [
       "<matplotlib.collections.PathCollection at 0x19a1976f4e0>"
      ]
     },
     "execution_count": 93,
     "metadata": {},
     "output_type": "execute_result"
    },
    {
     "data": {
      "image/png": "[encoded data removed]",
      "text/plain": [
       "<Figure size 432x288 with 1 Axes>"
      ]
     },
     "metadata": {
      "needs_background": "light"
     },
     "output_type": "display_data"
    }
   ],
   "source": [
    "plt.scatter(x=clean_data['dislike ratio'], y= clean_data['game_name'])"
   ]
  },
  {
   "cell_type": "code",
   "execution_count": 94,
   "metadata": {},
   "outputs": [
    {
     "data": {
      "text/plain": [
       "<seaborn.axisgrid.JointGrid at 0x19a19b5c278>"
      ]
     },
     "execution_count": 94,
     "metadata": {},
     "output_type": "execute_result"
    },
    {
     "data": {
      "image/png": "[encoded data removed]",
      "text/plain": [
       "<Figure size 432x432 with 3 Axes>"
      ]
     },
     "metadata": {
      "needs_background": "light"
     },
     "output_type": "display_data"
    }
   ],
   "source": [
    "sns.jointplot(clean_data['dislike ratio'], clean_data['Metacritic Review Score'])"
   ]
  },
  {
   "cell_type": "code",
   "execution_count": 95,
   "metadata": {},
   "outputs": [
    {
     "data": {
      "text/plain": [
       "<seaborn.axisgrid.JointGrid at 0x19a193fef60>"
      ]
     },
     "execution_count": 95,
     "metadata": {},
     "output_type": "execute_result"
    },
    {
     "data": {
      "image/png": "[encoded data removed]",
      "text/plain": [
       "<Figure size 432x432 with 3 Axes>"
      ]
     },
     "metadata": {
      "needs_background": "light"
     },
     "output_type": "display_data"
    }
   ],
   "source": [
    "sns.jointplot(clean_data['views'], clean_data['Metacritic Review Score'])"
   ]
  },
  {
   "cell_type": "markdown",
   "metadata": {},
   "source": [
    "Sample without videos with more than 1 million views"
   ]
  },
  {
   "cell_type": "code",
   "execution_count": 98,
   "metadata": {},
   "outputs": [],
   "source": [
    "sample_2 = clean_data[clean_data['views'] < 250000]"
   ]
  },
  {
   "cell_type": "code",
   "execution_count": 99,
   "metadata": {
    "scrolled": false
   },
   "outputs": [
    {
     "data": {
      "text/plain": [
       "<seaborn.axisgrid.JointGrid at 0x19a16811a20>"
      ]
     },
     "execution_count": 99,
     "metadata": {},
     "output_type": "execute_result"
    },
    {
     "data": {
      "image/png": "[encoded data removed]",
      "text/plain": [
       "<Figure size 432x432 with 3 Axes>"
      ]
     },
     "metadata": {
      "needs_background": "light"
     },
     "output_type": "display_data"
    }
   ],
   "source": [
    "sns.jointplot(sample_2['views'], sample_2['Metacritic Review Score'])"
   ]
  },
  {
   "cell_type": "code",
   "execution_count": null,
   "metadata": {},
   "outputs": [],
   "source": []
  },
  {
   "cell_type": "code",
   "execution_count": null,
   "metadata": {},
   "outputs": [],
   "source": []
  }
 ],
 "metadata": {
  "kernelspec": {
   "display_name": "Python 3",
   "language": "python",
   "name": "python3"
  },
  "language_info": {
   "codemirror_mode": {
    "name": "ipython",
    "version": 3
   },
   "file_extension": ".py",
   "mimetype": "text/x-python",
   "name": "python",
   "nbconvert_exporter": "python",
   "pygments_lexer": "ipython3",
   "version": "3.7.3"
  }
 },
 "nbformat": 4,
 "nbformat_minor": 2
}
